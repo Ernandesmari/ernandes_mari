{
 "cells": [
  {
   "cell_type": "code",
   "execution_count": 1,
   "metadata": {},
   "outputs": [
    {
     "name": "stderr",
     "output_type": "stream",
     "text": [
      "/opt/conda/lib/python3.7/site-packages/sklearn/linear_model/logistic.py:432: FutureWarning: Default solver will be changed to 'lbfgs' in 0.22. Specify a solver to silence this warning.\n",
      "  FutureWarning)\n"
     ]
    }
   ],
   "source": [
    "import pandas as pd\n",
    "from nltk.corpus import stopwords as nltk_stopwords\n",
    "from sklearn.feature_extraction.text import TfidfVectorizer\n",
    "from sklearn.linear_model import LogisticRegression\n",
    "from sklearn.model_selection import train_test_split\n",
    "from joblib import dump\n",
    "import joblib\n",
    "import nltk\n",
    "\n",
    "data_train = pd.read_csv('/datasets/tweets_lemm_train.csv')\n",
    "train_corpus = data_train['lemm_text'].values.astype('U')\n",
    "train_labels = data_train['positive']\n",
    "\n",
    "stopwords = set(nltk_stopwords.words('russian'))\n",
    "count_tf_idf = TfidfVectorizer(stop_words=stopwords)\n",
    "\n",
    "tfidf_train = count_tf_idf.fit_transform(train_corpus)\n",
    "\n",
    "model = LogisticRegression()\n",
    "model.fit(tfidf_train, train_labels)\n",
    "\n",
    "data_test = pd.read_csv(\"/datasets/tweets_lemm_test.csv\")\n",
    "test_corpus = data_test['lemm_text'].values.astype('U')\n",
    "tfidf_test = count_tf_idf.transform(test_corpus)\n",
    "\n",
    "predictions = model.predict(tfidf_test)\n",
    "submission = pd.DataFrame({'positive':predictions})\n",
    "\n",
    "submission.to_csv('predictions', index=False)"
   ]
  },
  {
   "cell_type": "code",
   "execution_count": 2,
   "metadata": {},
   "outputs": [
    {
     "data": {
      "text/plain": [
       "1.0"
      ]
     },
     "execution_count": 2,
     "metadata": {},
     "output_type": "execute_result"
    }
   ],
   "source": [
    "accuracy = model.score(tfidf_test, predictions)\n",
    "accuracy"
   ]
  },
  {
   "cell_type": "code",
   "execution_count": null,
   "metadata": {},
   "outputs": [],
   "source": []
  }
 ],
 "metadata": {
  "kernelspec": {
   "display_name": "Python 3",
   "language": "python",
   "name": "python3"
  },
  "language_info": {
   "codemirror_mode": {
    "name": "ipython",
    "version": 3
   },
   "file_extension": ".py",
   "mimetype": "text/x-python",
   "name": "python",
   "nbconvert_exporter": "python",
   "pygments_lexer": "ipython3",
   "version": "3.7.8"
  },
  "toc": {
   "base_numbering": 1,
   "nav_menu": {},
   "number_sections": true,
   "sideBar": true,
   "skip_h1_title": true,
   "title_cell": "Table of Contents",
   "title_sidebar": "Contents",
   "toc_cell": false,
   "toc_position": {},
   "toc_section_display": true,
   "toc_window_display": false
  }
 },
 "nbformat": 4,
 "nbformat_minor": 2
}
