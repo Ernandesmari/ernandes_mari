{
 "cells": [
  {
   "cell_type": "markdown",
   "metadata": {},
   "source": [
    "### Создание NLP-конвейера на Python\n",
    "Вот так выглядит алгоритм обработки естественного языка:\n",
    "\n",
    "входные данные: исходный текст\n",
    "\n",
    "- сегментация на предложения\n",
    " \n",
    "- лексический анализ\n",
    " \n",
    "- частеречная разметка\n",
    " \n",
    "- лемматизация текста\n",
    " \n",
    "- выявление стоповых слов\n",
    " \n",
    "- синтаксический анализ на основе грамматики зависимостей\n",
    " \n",
    "- поиск именных групп\n",
    " \n",
    "- выделение именованных сущностей\n",
    " \n",
    "- разрешение кореференции"
   ]
  },
  {
   "cell_type": "code",
   "execution_count": 1,
   "metadata": {},
   "outputs": [],
   "source": [
    "#!pip3 install -U spacy"
   ]
  },
  {
   "cell_type": "code",
   "execution_count": 2,
   "metadata": {},
   "outputs": [],
   "source": [
    "#!python -m spacy download en_core_web_lg"
   ]
  },
  {
   "cell_type": "code",
   "execution_count": 3,
   "metadata": {},
   "outputs": [],
   "source": [
    "import spacy\n",
    "\n",
    "nlp = spacy.load('en_core_web_lg')"
   ]
  },
  {
   "cell_type": "code",
   "execution_count": 4,
   "metadata": {},
   "outputs": [],
   "source": [
    "text = \"\"\"I know a girl who is a hardcore Trump supporter, and I've been\n",
    "asking her questions just to see how they could possibly support\n",
    "him and the GOP. some of the things these people believe is mind\n",
    "boggling. Their only source of information, is from other like\n",
    "minded people that continuously re enforce their narrative and\n",
    "makes them ignorant and oblivious to anything else. Some of the\n",
    "gems this dumbass has tried to defend:\n",
    "Trump has only golfed twice in his presidency, and much less than\n",
    "Obama; because if he had golfed more, someone must have mentioned\n",
    "it. And when I showed her with sources how much Trump has golfed,\n",
    "the reply was a shrug and fake news\n",
    "People attacking the Capitol were ANTIFA and far left that were\n",
    "dressed as Trump supporters to make them look bad. ( I had no\n",
    "comment on this one, as I legitimately couldn't believe someone\n",
    "could be so dumb)\n",
    "There was massive election fraud, as evident by multiple blogs\n",
    "where people claimed they saw it with their own eyes and had\n",
    "proof. When I asked for the proof, she claimed the left media and\n",
    "the Jews won't allow it to be leaked to the public.\n",
    "Black women in this country abort 485,000 babies/yr after giving\n",
    "birth. I told her that's not abortion, and there is no source\n",
    "verifying that. Once again, silence. Talking to her made me\n",
    "realize, it absolutely doesn't matter what you show them, what you\n",
    "prove with reliable sources, they'll simply won't believe you.\n",
    "Trump's narrative of fake news from early on in his presidency\n",
    "allowed him and his supporters to simply dismiss any bit of\n",
    "information that didn't align with their views. So in short, I\n",
    "don't think there's any hope in making these people realize what\n",
    "the truth is, quite frankly, it's exhaustive; and I feel my brain\n",
    "cells commit suicide after talking to her and other Trumpsters.\n",
    "\"\"\""
   ]
  },
  {
   "cell_type": "code",
   "execution_count": 5,
   "metadata": {},
   "outputs": [
    {
     "name": "stdout",
     "output_type": "stream",
     "text": [
      "Trump (ORG)\n",
      "GOP (ORG)\n",
      "Trump (ORG)\n",
      "Obama (ORG)\n",
      "Trump (PERSON)\n",
      "Capitol (ORG)\n",
      "ANTIFA (NORP)\n",
      "Trump (ORG)\n",
      "Jews (NORP)\n",
      "485,000 (CARDINAL)\n",
      "Trump (ORG)\n",
      "Trumpsters (NORP)\n"
     ]
    }
   ],
   "source": [
    "doc = nlp(text)\n",
    "\n",
    "for entity in doc.ents:\n",
    "    print(f\"{entity.text} ({entity.label_})\")"
   ]
  },
  {
   "cell_type": "code",
   "execution_count": 6,
   "metadata": {},
   "outputs": [
    {
     "name": "stdout",
     "output_type": "stream",
     "text": [
      "\n",
      "I know a girl who is a hardcore Trump supporter, and I've been\n",
      "asking her questions just to see how they could possibly support\n",
      "him and the GOP. some of the things these people believe is mind\n",
      "boggling. Their only source of information, is from other like\n",
      "minded people that continuously re enforce their narrative and\n",
      "makes them ignorant and oblivious to anything else. Some of the\n",
      "gems this dumbass has tried to defend:\n",
      "Trump has only golfed twice in his presidency, and much less than\n",
      "Obama; because if he had golfed more, someone must have mentioned\n",
      "it. And when I showed her with sources how much [REDACTED] has golfed,\n",
      "the reply was a shrug and fake news\n",
      "People attacking the Capitol were ANTIFA and far left that were\n",
      "dressed as Trump supporters to make them look bad. ( I had no\n",
      "comment on this one, as I legitimately couldn't believe someone\n",
      "could be so dumb)\n",
      "There was massive election fraud, as evident by multiple blogs\n",
      "where people claimed they saw it with their own eyes and had\n",
      "proof. When I asked for the proof, she claimed the left media and\n",
      "the Jews won't allow it to be leaked to the public.\n",
      "Black women in this country abort 485,000 babies/yr after giving\n",
      "birth. I told her that's not abortion, and there is no source\n",
      "verifying that. Once again, silence. Talking to her made me\n",
      "realize, it absolutely doesn't matter what you show them, what you\n",
      "prove with reliable sources, they'll simply won't believe you.\n",
      "Trump's narrative of fake news from early on in his presidency\n",
      "allowed him and his supporters to simply dismiss any bit of\n",
      "information that didn't align with their views. So in short, I\n",
      "don't think there's any hope in making these people realize what\n",
      "the truth is, quite frankly, it's exhaustive; and I feel my brain\n",
      "cells commit suicide after talking to her and other Trumpsters.\n",
      "\n"
     ]
    },
    {
     "name": "stderr",
     "output_type": "stream",
     "text": [
      "/opt/anaconda3/lib/python3.7/site-packages/ipykernel_launcher.py:17: DeprecationWarning: [W013] As of v2.1.0, Span.merge is deprecated. Please use the more efficient and less error-prone Doc.retokenize context manager instead.\n",
      "/opt/anaconda3/lib/python3.7/site-packages/ipykernel_launcher.py:17: DeprecationWarning: [W013] As of v2.1.0, Doc.merge is deprecated. Please use the more efficient and less error-prone Doc.retokenize context manager instead.\n"
     ]
    }
   ],
   "source": [
    "import spacy\n",
    "\n",
    "nlp = spacy.load('en_core_web_lg')\n",
    "\n",
    "def replace_name_with_placeholder(token):\n",
    "    if token.ent_iob != 0 and token.ent_type_ == \"PERSON\":\n",
    "        return \"[REDACTED] \"\n",
    "    else:\n",
    "        return token.string\n",
    "\n",
    "def scrub(text):\n",
    "    doc = nlp(text)\n",
    "    for ent in doc.ents:\n",
    "        ent.merge()\n",
    "    tokens = map(replace_name_with_placeholder, doc)\n",
    "    return \"\".join(tokens)\n",
    "\n",
    "s = \"\"\"\n",
    "I know a girl who is a hardcore Trump supporter, and I've been\n",
    "asking her questions just to see how they could possibly support\n",
    "him and the GOP. some of the things these people believe is mind\n",
    "boggling. Their only source of information, is from other like\n",
    "minded people that continuously re enforce their narrative and\n",
    "makes them ignorant and oblivious to anything else. Some of the\n",
    "gems this dumbass has tried to defend:\n",
    "Trump has only golfed twice in his presidency, and much less than\n",
    "Obama; because if he had golfed more, someone must have mentioned\n",
    "it. And when I showed her with sources how much Trump has golfed,\n",
    "the reply was a shrug and fake news\n",
    "People attacking the Capitol were ANTIFA and far left that were\n",
    "dressed as Trump supporters to make them look bad. ( I had no\n",
    "comment on this one, as I legitimately couldn't believe someone\n",
    "could be so dumb)\n",
    "There was massive election fraud, as evident by multiple blogs\n",
    "where people claimed they saw it with their own eyes and had\n",
    "proof. When I asked for the proof, she claimed the left media and\n",
    "the Jews won't allow it to be leaked to the public.\n",
    "Black women in this country abort 485,000 babies/yr after giving\n",
    "birth. I told her that's not abortion, and there is no source\n",
    "verifying that. Once again, silence. Talking to her made me\n",
    "realize, it absolutely doesn't matter what you show them, what you\n",
    "prove with reliable sources, they'll simply won't believe you.\n",
    "Trump's narrative of fake news from early on in his presidency\n",
    "allowed him and his supporters to simply dismiss any bit of\n",
    "information that didn't align with their views. So in short, I\n",
    "don't think there's any hope in making these people realize what\n",
    "the truth is, quite frankly, it's exhaustive; and I feel my brain\n",
    "cells commit suicide after talking to her and other Trumpsters.\n",
    "\"\"\"\n",
    "\n",
    "print(scrub(s))"
   ]
  },
  {
   "cell_type": "markdown",
   "metadata": {},
   "source": [
    "### Извлечение фактов из текста"
   ]
  },
  {
   "cell_type": "code",
   "execution_count": 7,
   "metadata": {},
   "outputs": [
    {
     "name": "stdout",
     "output_type": "stream",
     "text": [
      "Requirement already satisfied: textacy in /opt/anaconda3/lib/python3.7/site-packages (0.10.1)\n",
      "Requirement already satisfied: requests>=2.10.0 in /opt/anaconda3/lib/python3.7/site-packages (from textacy) (2.22.0)\n",
      "Requirement already satisfied: srsly>=0.0.5 in /opt/anaconda3/lib/python3.7/site-packages (from textacy) (1.0.2)\n",
      "Requirement already satisfied: tqdm>=4.19.6 in /opt/anaconda3/lib/python3.7/site-packages (from textacy) (4.42.1)\n",
      "Requirement already satisfied: joblib>=0.13.0 in /opt/anaconda3/lib/python3.7/site-packages (from textacy) (0.14.1)\n",
      "Requirement already satisfied: networkx>=2.0 in /opt/anaconda3/lib/python3.7/site-packages (from textacy) (2.4)\n",
      "Requirement already satisfied: pyemd>=0.5.0 in /opt/anaconda3/lib/python3.7/site-packages (from textacy) (0.5.1)\n",
      "Requirement already satisfied: scikit-learn<0.24.0,>=0.19.0 in /opt/anaconda3/lib/python3.7/site-packages (from textacy) (0.23.2)\n",
      "Requirement already satisfied: scipy>=0.17.0 in /opt/anaconda3/lib/python3.7/site-packages (from textacy) (1.4.1)\n",
      "Requirement already satisfied: jellyfish>=0.7.0 in /opt/anaconda3/lib/python3.7/site-packages (from textacy) (0.8.2)\n",
      "Requirement already satisfied: cytoolz>=0.8.0 in /opt/anaconda3/lib/python3.7/site-packages (from textacy) (0.10.1)\n",
      "Requirement already satisfied: numpy>=1.17.0 in /opt/anaconda3/lib/python3.7/site-packages (from textacy) (1.20.1)\n",
      "Requirement already satisfied: pyphen>=0.9.4 in /opt/anaconda3/lib/python3.7/site-packages (from textacy) (0.10.0)\n",
      "Requirement already satisfied: spacy<3.0.0,>=2.2.0 in /opt/anaconda3/lib/python3.7/site-packages (from textacy) (2.3.2)\n",
      "Requirement already satisfied: cachetools>=2.0.1 in /opt/anaconda3/lib/python3.7/site-packages (from textacy) (4.2.1)\n",
      "Requirement already satisfied: chardet<3.1.0,>=3.0.2 in /opt/anaconda3/lib/python3.7/site-packages (from requests>=2.10.0->textacy) (3.0.4)\n",
      "Requirement already satisfied: urllib3!=1.25.0,!=1.25.1,<1.26,>=1.21.1 in /opt/anaconda3/lib/python3.7/site-packages (from requests>=2.10.0->textacy) (1.25.8)\n",
      "Requirement already satisfied: certifi>=2017.4.17 in /opt/anaconda3/lib/python3.7/site-packages (from requests>=2.10.0->textacy) (2019.11.28)\n",
      "Requirement already satisfied: idna<2.9,>=2.5 in /opt/anaconda3/lib/python3.7/site-packages (from requests>=2.10.0->textacy) (2.8)\n",
      "Requirement already satisfied: decorator>=4.3.0 in /opt/anaconda3/lib/python3.7/site-packages (from networkx>=2.0->textacy) (4.4.1)\n",
      "Requirement already satisfied: threadpoolctl>=2.0.0 in /opt/anaconda3/lib/python3.7/site-packages (from scikit-learn<0.24.0,>=0.19.0->textacy) (2.1.0)\n",
      "Requirement already satisfied: toolz>=0.8.0 in /opt/anaconda3/lib/python3.7/site-packages (from cytoolz>=0.8.0->textacy) (0.10.0)\n",
      "Requirement already satisfied: preshed<3.1.0,>=3.0.2 in /opt/anaconda3/lib/python3.7/site-packages (from spacy<3.0.0,>=2.2.0->textacy) (3.0.2)\n",
      "Requirement already satisfied: cymem<2.1.0,>=2.0.2 in /opt/anaconda3/lib/python3.7/site-packages (from spacy<3.0.0,>=2.2.0->textacy) (2.0.3)\n",
      "Requirement already satisfied: catalogue<1.1.0,>=0.0.7 in /opt/anaconda3/lib/python3.7/site-packages (from spacy<3.0.0,>=2.2.0->textacy) (1.0.0)\n",
      "Requirement already satisfied: setuptools in /opt/anaconda3/lib/python3.7/site-packages (from spacy<3.0.0,>=2.2.0->textacy) (46.0.0.post20200309)\n",
      "Requirement already satisfied: blis<0.5.0,>=0.4.0 in /opt/anaconda3/lib/python3.7/site-packages (from spacy<3.0.0,>=2.2.0->textacy) (0.4.1)\n",
      "Requirement already satisfied: thinc==7.4.1 in /opt/anaconda3/lib/python3.7/site-packages (from spacy<3.0.0,>=2.2.0->textacy) (7.4.1)\n",
      "Requirement already satisfied: wasabi<1.1.0,>=0.4.0 in /opt/anaconda3/lib/python3.7/site-packages (from spacy<3.0.0,>=2.2.0->textacy) (0.8.0)\n",
      "Requirement already satisfied: murmurhash<1.1.0,>=0.28.0 in /opt/anaconda3/lib/python3.7/site-packages (from spacy<3.0.0,>=2.2.0->textacy) (1.0.2)\n",
      "Requirement already satisfied: plac<1.2.0,>=0.9.6 in /opt/anaconda3/lib/python3.7/site-packages (from spacy<3.0.0,>=2.2.0->textacy) (1.1.3)\n",
      "Requirement already satisfied: importlib-metadata>=0.20; python_version < \"3.8\" in /opt/anaconda3/lib/python3.7/site-packages (from catalogue<1.1.0,>=0.0.7->spacy<3.0.0,>=2.2.0->textacy) (1.5.0)\n",
      "Requirement already satisfied: zipp>=0.5 in /opt/anaconda3/lib/python3.7/site-packages (from importlib-metadata>=0.20; python_version < \"3.8\"->catalogue<1.1.0,>=0.0.7->spacy<3.0.0,>=2.2.0->textacy) (2.2.0)\n",
      "Note: you may need to restart the kernel to use updated packages.\n"
     ]
    }
   ],
   "source": [
    "pip install textacy"
   ]
  },
  {
   "cell_type": "code",
   "execution_count": 8,
   "metadata": {},
   "outputs": [],
   "source": [
    "import textacy"
   ]
  },
  {
   "cell_type": "code",
   "execution_count": 9,
   "metadata": {},
   "outputs": [
    {
     "name": "stdout",
     "output_type": "stream",
     "text": [
      "Here are the things I know about London:\n",
      " - the capital and most populous city of England and  the United Kingdom.  \n",
      "\n",
      " - a major settlement  for two millennia.  \n"
     ]
    }
   ],
   "source": [
    "nlp = spacy.load('en_core_web_lg')\n",
    "\n",
    "text = \"\"\"London is the capital and most populous city of England and  the United Kingdom.  \n",
    "Standing on the River Thames in the south east of the island of Great Britain, \n",
    "London has been a major settlement  for two millennia.  It was founded by the Romans, \n",
    "who named it Londinium.\n",
    "\"\"\"\n",
    "\n",
    "doc = nlp(text)\n",
    "\n",
    "statements = textacy.extract.semistructured_statements(doc, \"London\")\n",
    "\n",
    "\n",
    "print(\"Here are the things I know about London:\")\n",
    "\n",
    "for statement in statements:\n",
    "    subject, verb, fact = statement\n",
    "    print(f\" - {fact}\")"
   ]
  },
  {
   "cell_type": "code",
   "execution_count": 10,
   "metadata": {},
   "outputs": [
    {
     "name": "stdout",
     "output_type": "stream",
     "text": [
      "Here are the things I know about Moscow:\n",
      " - the capital and largest city of Russia\n"
     ]
    }
   ],
   "source": [
    "nlp = spacy.load('en_core_web_lg')\n",
    "\n",
    "text_1 = \"\"\"Moscow is the capital and largest city of Russia. The city stands on the Moskva River in Central Russia, with a population estimated at 12.4 million residents within the city limits, while over 17 million residents in the urban area,and over 20 million residents in the Moscow Metropolitan Area. The city covers an area of 2,511 square kilometres (970 sq mi), while the urban area covers 5,891 square kilometres (2,275 sq mi), and the metropolitan area covers over 26,000 square kilometres (10,000 sq mi). Moscow is among the world's largest cities, being the largest city entirely in Europe, the largest urban area in Europe, the largest metropolitan area in Europe, and the largest city by land area on the European continent. \n",
    "Originally established in 1147, Moscow grew to become a prosperous and powerful city that served as the capital of the Grand Duchy that bears its namesake. When the Grand Duchy of Moscow evolved into the Tsardom of Russia, Moscow still remained as the political and economic center for most of the Tsardom's history. When the Tsardom was reformed into the Russian Empire, the capital was moved from Moscow to Saint Petersburg, diminishing the influence of the city. The capital was then moved back to Moscow following the Russian Revolution and the city was brought back as the political centre of the Russian SFSR and the Soviet Union. In the aftermath of the dissolution of the Soviet Union, Moscow remained as the capital city of the contemporary and newly established Russian Federation.\n",
    "\"\"\"\n",
    "\n",
    "doc = nlp(text_1)\n",
    "\n",
    "statements = textacy.extract.semistructured_statements(doc, \"Moscow\")\n",
    "\n",
    "print(\"Here are the things I know about Moscow:\")\n",
    "\n",
    "for statement in statements:\n",
    "    subject, verb, fact = statement\n",
    "    print(f\" - {fact}\")"
   ]
  },
  {
   "cell_type": "markdown",
   "metadata": {},
   "source": [
    "Самые частотные отрывки фраз из текста о Москве"
   ]
  },
  {
   "cell_type": "code",
   "execution_count": 11,
   "metadata": {},
   "outputs": [
    {
     "name": "stdout",
     "output_type": "stream",
     "text": [
      "largest city\n"
     ]
    }
   ],
   "source": [
    "import spacy\n",
    "import textacy.extract\n",
    "\n",
    "nlp = spacy.load('en_core_web_lg')\n",
    "\n",
    "text = \"\"\"Moscow is the capital and largest city of Russia. The city stands on the Moskva River in Central Russia, with a population estimated at 12.4 million residents within the city limits, while over 17 million residents in the urban area,and over 20 million residents in the Moscow Metropolitan Area. The city covers an area of 2,511 square kilometres (970 sq mi), while the urban area covers 5,891 square kilometres (2,275 sq mi), and the metropolitan area covers over 26,000 square kilometres (10,000 sq mi). Moscow is among the world's largest cities, being the largest city entirely in Europe, the largest urban area in Europe, the largest metropolitan area in Europe, and the largest city by land area on the European continent. \n",
    "Originally established in 1147, Moscow grew to become a prosperous and powerful city that served as the capital of the Grand Duchy that bears its namesake. When the Grand Duchy of Moscow evolved into the Tsardom of Russia, Moscow still remained as the political and economic center for most of the Tsardom's history. When the Tsardom was reformed into the Russian Empire, the capital was moved from Moscow to Saint Petersburg, diminishing the influence of the city. The capital was then moved back to Moscow following the Russian Revolution and the city was brought back as the political centre of the Russian SFSR and the Soviet Union. In the aftermath of the dissolution of the Soviet Union, Moscow remained as the capital city of the contemporary and newly established Russian Federation.\"\"\"\n",
    "\n",
    "doc = nlp(text)\n",
    "\n",
    "noun_chunks = textacy.extract.noun_chunks(doc, min_freq=3)\n",
    "\n",
    "noun_chunks = map(str, noun_chunks)\n",
    "noun_chunks = map(str.lower, noun_chunks)\n",
    "\n",
    "for noun_chunk in set(noun_chunks):\n",
    "    if len(noun_chunk.split(\" \")) > 1:\n",
    "        print(noun_chunk)"
   ]
  },
  {
   "cell_type": "code",
   "execution_count": null,
   "metadata": {},
   "outputs": [],
   "source": []
  },
  {
   "cell_type": "code",
   "execution_count": null,
   "metadata": {},
   "outputs": [],
   "source": []
  },
  {
   "cell_type": "code",
   "execution_count": null,
   "metadata": {},
   "outputs": [],
   "source": []
  },
  {
   "cell_type": "code",
   "execution_count": null,
   "metadata": {},
   "outputs": [],
   "source": []
  },
  {
   "cell_type": "code",
   "execution_count": null,
   "metadata": {},
   "outputs": [],
   "source": []
  }
 ],
 "metadata": {
  "kernelspec": {
   "display_name": "Python 3",
   "language": "python",
   "name": "python3"
  },
  "language_info": {
   "codemirror_mode": {
    "name": "ipython",
    "version": 3
   },
   "file_extension": ".py",
   "mimetype": "text/x-python",
   "name": "python",
   "nbconvert_exporter": "python",
   "pygments_lexer": "ipython3",
   "version": "3.7.6"
  },
  "toc": {
   "base_numbering": 1,
   "nav_menu": {},
   "number_sections": true,
   "sideBar": true,
   "skip_h1_title": false,
   "title_cell": "Table of Contents",
   "title_sidebar": "Contents",
   "toc_cell": false,
   "toc_position": {},
   "toc_section_display": true,
   "toc_window_display": false
  }
 },
 "nbformat": 4,
 "nbformat_minor": 2
}
